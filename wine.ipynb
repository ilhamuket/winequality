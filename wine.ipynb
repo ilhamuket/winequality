{
 "cells": [
  {
   "cell_type": "raw",
   "id": "bc8d9bf2",
   "metadata": {},
   "source": [
    "Muhammmad Ilham - 17200024 -  TI4A"
   ]
  },
  {
   "cell_type": "code",
   "execution_count": null,
   "id": "4e92aa6b",
   "metadata": {},
   "outputs": [],
   "source": [
    "from sklearn.linear_model import LogisticRegression\n",
    "from sklearn.svm import SVC\n",
    "from sklearn.ensemble import RandomForestClassifier\n",
    "import pandas as pd\n",
    "\n",
    "\n",
    "df = pd.read_csv('winequality-red.csv')\n",
    "df "
   ]
  },
  {
   "cell_type": "code",
   "execution_count": 88,
   "id": "1f379856",
   "metadata": {},
   "outputs": [],
   "source": [
    "X = df.iloc[:, 0:11]\n",
    "y = df.iloc[:, 11]"
   ]
  },
  {
   "cell_type": "code",
   "execution_count": 89,
   "id": "6098ab78",
   "metadata": {},
   "outputs": [
    {
     "data": {
      "text/plain": [
       "0       5\n",
       "1       5\n",
       "2       5\n",
       "3       6\n",
       "4       5\n",
       "       ..\n",
       "1594    5\n",
       "1595    6\n",
       "1596    6\n",
       "1597    5\n",
       "1598    6\n",
       "Name: quality, Length: 1599, dtype: int64"
      ]
     },
     "execution_count": 89,
     "metadata": {},
     "output_type": "execute_result"
    }
   ],
   "source": [
    "y"
   ]
  },
  {
   "cell_type": "code",
   "execution_count": 90,
   "id": "e920b3da",
   "metadata": {},
   "outputs": [],
   "source": [
    "from sklearn.model_selection import train_test_split\n",
    "X_train, X_test, y_train, y_test = train_test_split(X,y,test_size=0.4)"
   ]
  },
  {
   "cell_type": "code",
   "execution_count": 91,
   "id": "e5874352",
   "metadata": {},
   "outputs": [
    {
     "data": {
      "text/html": [
       "<div>\n",
       "<style scoped>\n",
       "    .dataframe tbody tr th:only-of-type {\n",
       "        vertical-align: middle;\n",
       "    }\n",
       "\n",
       "    .dataframe tbody tr th {\n",
       "        vertical-align: top;\n",
       "    }\n",
       "\n",
       "    .dataframe thead th {\n",
       "        text-align: right;\n",
       "    }\n",
       "</style>\n",
       "<table border=\"1\" class=\"dataframe\">\n",
       "  <thead>\n",
       "    <tr style=\"text-align: right;\">\n",
       "      <th></th>\n",
       "      <th>fixed acidity</th>\n",
       "      <th>volatile acidity</th>\n",
       "      <th>citric acid</th>\n",
       "      <th>residual sugar</th>\n",
       "      <th>chlorides</th>\n",
       "      <th>free sulfur dioxide</th>\n",
       "      <th>total sulfur dioxide</th>\n",
       "      <th>density</th>\n",
       "      <th>pH</th>\n",
       "      <th>sulphates</th>\n",
       "      <th>alcohol</th>\n",
       "    </tr>\n",
       "  </thead>\n",
       "  <tbody>\n",
       "    <tr>\n",
       "      <th>145</th>\n",
       "      <td>8.1</td>\n",
       "      <td>0.670</td>\n",
       "      <td>0.55</td>\n",
       "      <td>1.8</td>\n",
       "      <td>0.117</td>\n",
       "      <td>32.0</td>\n",
       "      <td>141.0</td>\n",
       "      <td>0.99680</td>\n",
       "      <td>3.17</td>\n",
       "      <td>0.62</td>\n",
       "      <td>9.4</td>\n",
       "    </tr>\n",
       "    <tr>\n",
       "      <th>80</th>\n",
       "      <td>6.2</td>\n",
       "      <td>0.450</td>\n",
       "      <td>0.20</td>\n",
       "      <td>1.6</td>\n",
       "      <td>0.069</td>\n",
       "      <td>3.0</td>\n",
       "      <td>15.0</td>\n",
       "      <td>0.99580</td>\n",
       "      <td>3.41</td>\n",
       "      <td>0.56</td>\n",
       "      <td>9.2</td>\n",
       "    </tr>\n",
       "    <tr>\n",
       "      <th>1464</th>\n",
       "      <td>6.8</td>\n",
       "      <td>0.590</td>\n",
       "      <td>0.10</td>\n",
       "      <td>1.7</td>\n",
       "      <td>0.063</td>\n",
       "      <td>34.0</td>\n",
       "      <td>53.0</td>\n",
       "      <td>0.99580</td>\n",
       "      <td>3.41</td>\n",
       "      <td>0.67</td>\n",
       "      <td>9.7</td>\n",
       "    </tr>\n",
       "    <tr>\n",
       "      <th>1387</th>\n",
       "      <td>7.4</td>\n",
       "      <td>0.640</td>\n",
       "      <td>0.07</td>\n",
       "      <td>1.8</td>\n",
       "      <td>0.100</td>\n",
       "      <td>8.0</td>\n",
       "      <td>23.0</td>\n",
       "      <td>0.99610</td>\n",
       "      <td>3.30</td>\n",
       "      <td>0.58</td>\n",
       "      <td>9.6</td>\n",
       "    </tr>\n",
       "    <tr>\n",
       "      <th>1286</th>\n",
       "      <td>7.1</td>\n",
       "      <td>0.160</td>\n",
       "      <td>0.44</td>\n",
       "      <td>2.5</td>\n",
       "      <td>0.068</td>\n",
       "      <td>17.0</td>\n",
       "      <td>31.0</td>\n",
       "      <td>0.99328</td>\n",
       "      <td>3.35</td>\n",
       "      <td>0.54</td>\n",
       "      <td>12.4</td>\n",
       "    </tr>\n",
       "    <tr>\n",
       "      <th>...</th>\n",
       "      <td>...</td>\n",
       "      <td>...</td>\n",
       "      <td>...</td>\n",
       "      <td>...</td>\n",
       "      <td>...</td>\n",
       "      <td>...</td>\n",
       "      <td>...</td>\n",
       "      <td>...</td>\n",
       "      <td>...</td>\n",
       "      <td>...</td>\n",
       "      <td>...</td>\n",
       "    </tr>\n",
       "    <tr>\n",
       "      <th>1062</th>\n",
       "      <td>8.0</td>\n",
       "      <td>0.380</td>\n",
       "      <td>0.44</td>\n",
       "      <td>1.9</td>\n",
       "      <td>0.098</td>\n",
       "      <td>6.0</td>\n",
       "      <td>15.0</td>\n",
       "      <td>0.99560</td>\n",
       "      <td>3.30</td>\n",
       "      <td>0.64</td>\n",
       "      <td>11.4</td>\n",
       "    </tr>\n",
       "    <tr>\n",
       "      <th>1255</th>\n",
       "      <td>6.1</td>\n",
       "      <td>0.640</td>\n",
       "      <td>0.02</td>\n",
       "      <td>2.4</td>\n",
       "      <td>0.069</td>\n",
       "      <td>26.0</td>\n",
       "      <td>46.0</td>\n",
       "      <td>0.99358</td>\n",
       "      <td>3.47</td>\n",
       "      <td>0.45</td>\n",
       "      <td>11.0</td>\n",
       "    </tr>\n",
       "    <tr>\n",
       "      <th>70</th>\n",
       "      <td>7.7</td>\n",
       "      <td>0.630</td>\n",
       "      <td>0.08</td>\n",
       "      <td>1.9</td>\n",
       "      <td>0.076</td>\n",
       "      <td>15.0</td>\n",
       "      <td>27.0</td>\n",
       "      <td>0.99670</td>\n",
       "      <td>3.32</td>\n",
       "      <td>0.54</td>\n",
       "      <td>9.5</td>\n",
       "    </tr>\n",
       "    <tr>\n",
       "      <th>830</th>\n",
       "      <td>7.5</td>\n",
       "      <td>0.685</td>\n",
       "      <td>0.07</td>\n",
       "      <td>2.5</td>\n",
       "      <td>0.058</td>\n",
       "      <td>5.0</td>\n",
       "      <td>9.0</td>\n",
       "      <td>0.99632</td>\n",
       "      <td>3.38</td>\n",
       "      <td>0.55</td>\n",
       "      <td>10.9</td>\n",
       "    </tr>\n",
       "    <tr>\n",
       "      <th>1248</th>\n",
       "      <td>6.9</td>\n",
       "      <td>0.410</td>\n",
       "      <td>0.33</td>\n",
       "      <td>2.2</td>\n",
       "      <td>0.081</td>\n",
       "      <td>22.0</td>\n",
       "      <td>36.0</td>\n",
       "      <td>0.99490</td>\n",
       "      <td>3.41</td>\n",
       "      <td>0.75</td>\n",
       "      <td>11.1</td>\n",
       "    </tr>\n",
       "  </tbody>\n",
       "</table>\n",
       "<p>959 rows × 11 columns</p>\n",
       "</div>"
      ],
      "text/plain": [
       "      fixed acidity  volatile acidity  citric acid  residual sugar  chlorides  \\\n",
       "145             8.1             0.670         0.55             1.8      0.117   \n",
       "80              6.2             0.450         0.20             1.6      0.069   \n",
       "1464            6.8             0.590         0.10             1.7      0.063   \n",
       "1387            7.4             0.640         0.07             1.8      0.100   \n",
       "1286            7.1             0.160         0.44             2.5      0.068   \n",
       "...             ...               ...          ...             ...        ...   \n",
       "1062            8.0             0.380         0.44             1.9      0.098   \n",
       "1255            6.1             0.640         0.02             2.4      0.069   \n",
       "70              7.7             0.630         0.08             1.9      0.076   \n",
       "830             7.5             0.685         0.07             2.5      0.058   \n",
       "1248            6.9             0.410         0.33             2.2      0.081   \n",
       "\n",
       "      free sulfur dioxide  total sulfur dioxide  density    pH  sulphates  \\\n",
       "145                  32.0                 141.0  0.99680  3.17       0.62   \n",
       "80                    3.0                  15.0  0.99580  3.41       0.56   \n",
       "1464                 34.0                  53.0  0.99580  3.41       0.67   \n",
       "1387                  8.0                  23.0  0.99610  3.30       0.58   \n",
       "1286                 17.0                  31.0  0.99328  3.35       0.54   \n",
       "...                   ...                   ...      ...   ...        ...   \n",
       "1062                  6.0                  15.0  0.99560  3.30       0.64   \n",
       "1255                 26.0                  46.0  0.99358  3.47       0.45   \n",
       "70                   15.0                  27.0  0.99670  3.32       0.54   \n",
       "830                   5.0                   9.0  0.99632  3.38       0.55   \n",
       "1248                 22.0                  36.0  0.99490  3.41       0.75   \n",
       "\n",
       "      alcohol  \n",
       "145       9.4  \n",
       "80        9.2  \n",
       "1464      9.7  \n",
       "1387      9.6  \n",
       "1286     12.4  \n",
       "...       ...  \n",
       "1062     11.4  \n",
       "1255     11.0  \n",
       "70        9.5  \n",
       "830      10.9  \n",
       "1248     11.1  \n",
       "\n",
       "[959 rows x 11 columns]"
      ]
     },
     "execution_count": 91,
     "metadata": {},
     "output_type": "execute_result"
    }
   ],
   "source": [
    "X_train"
   ]
  },
  {
   "cell_type": "markdown",
   "id": "ecf2d785",
   "metadata": {},
   "source": [
    "LOGISTIC REGRESSION "
   ]
  },
  {
   "cell_type": "code",
   "execution_count": 92,
   "id": "11520b21",
   "metadata": {},
   "outputs": [
    {
     "data": {
      "text/plain": [
       "0.58125"
      ]
     },
     "execution_count": 92,
     "metadata": {},
     "output_type": "execute_result"
    }
   ],
   "source": [
    "lr = LogisticRegression(solver='liblinear',multi_class='ovr')\n",
    "lr.fit(X_train, y_train)\n",
    "lr.score(X_test, y_test)"
   ]
  },
  {
   "cell_type": "markdown",
   "id": "8812082f",
   "metadata": {},
   "source": [
    "SVM"
   ]
  },
  {
   "cell_type": "code",
   "execution_count": 93,
   "id": "10bd2a7e",
   "metadata": {},
   "outputs": [
    {
     "data": {
      "text/plain": [
       "0.55"
      ]
     },
     "execution_count": 93,
     "metadata": {},
     "output_type": "execute_result"
    }
   ],
   "source": [
    "svm = SVC(gamma='auto')\n",
    "svm.fit(X_train, y_train)\n",
    "svm.score(X_test, y_test)"
   ]
  },
  {
   "cell_type": "markdown",
   "id": "7b618159",
   "metadata": {},
   "source": [
    "Random Forest"
   ]
  },
  {
   "cell_type": "code",
   "execution_count": 94,
   "id": "78a329f9",
   "metadata": {},
   "outputs": [
    {
     "data": {
      "text/plain": [
       "0.6671875"
      ]
     },
     "execution_count": 94,
     "metadata": {},
     "output_type": "execute_result"
    }
   ],
   "source": [
    "rf = RandomForestClassifier(n_estimators=40)\n",
    "rf.fit(X_train, y_train)\n",
    "rf.score(X_test, y_test)"
   ]
  },
  {
   "cell_type": "markdown",
   "id": "9161c260",
   "metadata": {},
   "source": [
    "KFold cross validation"
   ]
  },
  {
   "cell_type": "code",
   "execution_count": 95,
   "id": "3b442cd6",
   "metadata": {},
   "outputs": [
    {
     "data": {
      "text/plain": [
       "KFold(n_splits=3, random_state=None, shuffle=False)"
      ]
     },
     "execution_count": 95,
     "metadata": {},
     "output_type": "execute_result"
    }
   ],
   "source": [
    "from sklearn.model_selection import KFold\n",
    "kf = KFold(n_splits=3)\n",
    "kf"
   ]
  },
  {
   "cell_type": "code",
   "execution_count": 96,
   "id": "5f07f1e0",
   "metadata": {},
   "outputs": [
    {
     "name": "stdout",
     "output_type": "stream",
     "text": [
      "[3 4 5 6 7 8] [0 1 2]\n",
      "[0 1 2 6 7 8] [3 4 5]\n",
      "[0 1 2 3 4 5] [6 7 8]\n"
     ]
    }
   ],
   "source": [
    "for train_index, test_index in kf.split([1,2,3,4,5,6,7,8,9]):\n",
    "    print(train_index, test_index)"
   ]
  },
  {
   "cell_type": "code",
   "execution_count": 97,
   "id": "5342e1d4",
   "metadata": {},
   "outputs": [],
   "source": [
    "def get_score(model, X_train, X_test, y_train, y_test):\n",
    "    model.fit(X_train, y_train)\n",
    "    return model.score(X_test, y_test)"
   ]
  },
  {
   "cell_type": "code",
   "execution_count": 98,
   "id": "f9e4fb36",
   "metadata": {},
   "outputs": [
    {
     "data": {
      "text/plain": [
       "0.471875"
      ]
     },
     "execution_count": 98,
     "metadata": {},
     "output_type": "execute_result"
    }
   ],
   "source": [
    "get_score(SVC(),X_train, X_test, y_train, y_test)"
   ]
  },
  {
   "cell_type": "markdown",
   "id": "f54fc338",
   "metadata": {},
   "source": [
    "cross_val_score fungsi cross validasi"
   ]
  },
  {
   "cell_type": "code",
   "execution_count": 99,
   "id": "af6c799e",
   "metadata": {},
   "outputs": [
    {
     "data": {
      "text/plain": [
       "array([0.52532833, 0.58161351, 0.55534709])"
      ]
     },
     "execution_count": 99,
     "metadata": {},
     "output_type": "execute_result"
    }
   ],
   "source": [
    "from sklearn.model_selection import cross_val_score\n",
    "\n",
    "#cvs LR\n",
    "cross_val_score(LogisticRegression(solver='liblinear',multi_class='ovr'), X,y,cv=3)"
   ]
  },
  {
   "cell_type": "code",
   "execution_count": 100,
   "id": "d309cfc6",
   "metadata": {},
   "outputs": [
    {
     "data": {
      "text/plain": [
       "array([0.51031895, 0.48592871, 0.48030019])"
      ]
     },
     "execution_count": 100,
     "metadata": {},
     "output_type": "execute_result"
    }
   ],
   "source": [
    "cross_val_score(SVC(gamma='auto'), X,y,cv=3)"
   ]
  },
  {
   "cell_type": "code",
   "execution_count": 101,
   "id": "87ca718d",
   "metadata": {},
   "outputs": [
    {
     "data": {
      "text/plain": [
       "array([0.52908068, 0.57973734, 0.5891182 ])"
      ]
     },
     "execution_count": 101,
     "metadata": {},
     "output_type": "execute_result"
    }
   ],
   "source": [
    "cross_val_score(RandomForestClassifier(n_estimators=40),X,y,cv=3)"
   ]
  }
 ],
 "metadata": {
  "kernelspec": {
   "display_name": "Python 3 (ipykernel)",
   "language": "python",
   "name": "python3"
  },
  "language_info": {
   "codemirror_mode": {
    "name": "ipython",
    "version": 3
   },
   "file_extension": ".py",
   "mimetype": "text/x-python",
   "name": "python",
   "nbconvert_exporter": "python",
   "pygments_lexer": "ipython3",
   "version": "3.10.4"
  }
 },
 "nbformat": 4,
 "nbformat_minor": 5
}
